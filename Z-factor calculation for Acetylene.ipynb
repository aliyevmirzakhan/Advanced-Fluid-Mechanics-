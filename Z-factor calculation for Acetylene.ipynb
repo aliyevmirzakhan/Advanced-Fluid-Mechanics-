{
 "cells": [
  {
   "cell_type": "code",
   "execution_count": 2,
   "metadata": {},
   "outputs": [],
   "source": [
    "import numpy as np\n",
    "import math"
   ]
  },
  {
   "cell_type": "code",
   "execution_count": 13,
   "metadata": {},
   "outputs": [
    {
     "name": "stdout",
     "output_type": "stream",
     "text": [
      "The Critical Pressure and Temperature of Acetylene is 61.39 bar, and 308.33 K\n",
      "Provide Temperature value (preffered is below critical Temperature): 250\n",
      "The maximum and the minimum pressure limits for given temperature are: 13.712732472733743 and 1.2868275 bars\n",
      "Provide Pressure value: 10\n",
      "New iterated molar volume 1.8846890877042253 ---- tolerance 0.19381091229577474\n",
      "New iterated molar volume 1.8392467926849838 ---- tolerance 0.04544229501924146\n",
      "New iterated molar volume 1.8367817222960894 ---- tolerance 0.0024650703888944303\n",
      "New iterated molar volume 1.8367746193172765 ---- tolerance 7.102978812900673e-06\n",
      "New iterated molar volume 1.8367746192575733 ---- tolerance 5.970313132763749e-11\n"
     ]
    }
   ],
   "source": [
    "def NewtonRaphson (function, x0):\n",
    "    h = 0.0000001\n",
    "    derivative = (function((x0+h),C3,C2,C1,C0) - function(x0, C3, C2, C1, C0))/(h)\n",
    "    return x0 - function(x0, C3, C2, C1, C0)/derivative\n",
    "\n",
    "\n",
    "\n",
    "def EoS(v, C3, C2, C1, C0):\n",
    "    return C3*(v**3) - C2*(v**2) - C1*v - C0\n",
    "\n",
    "\n",
    "\n",
    "# This part is to check wether Input variable (P&T) is in correct\n",
    "# range for acetylene to hold gaseous state using Antoine Equ.\n",
    "\n",
    "A = 4.66141\n",
    "B = 909.079\n",
    "C = 7.947\n",
    "Tc = 308.33 #K\n",
    "Pc = 61.39  #bar\n",
    "Pt = 1.2868275 #bar - Triple Point \n",
    "Temp = 0\n",
    "\n",
    "print (\"The Critical Pressure and Temperature of Acetylene is {} bar, and {} K\".format(Pc, Tc))\n",
    "\n",
    "Temp = int(input ('Provide Temperature value (preffered is below critical Temperature): '))\n",
    "Psat = 10**(A - B/(Temp + C))\n",
    "\n",
    "print (\"The maximum and the minimum pressure limits for given temperature are: {} and {} bars\".format(Psat, Pt))\n",
    "#------------------------------------------------------------------------------------------------------#\n",
    "\n",
    "\n",
    "\n",
    "P = int(input(\"Provide Pressure value: \"))\n",
    "\n",
    "\n",
    "\n",
    "\n",
    "# Converting the values to SI dimensions\n",
    "Pcritical = 61.29 * 100000     # in Pascals\n",
    "Pinput = P * 100000            # in Pascals\n",
    "#------------------------------------------\n",
    "\n",
    "\n",
    "\n",
    "\n",
    "# This part is dedicated for polynomial constants\n",
    "R = 8314 #J/kmol-K\n",
    "w = 0.187\n",
    "\n",
    "m = 0.480 + 1.574*w - 0.176*(w**(2))\n",
    "a = 0.42748 * ((R**2) * (Tc**2) / (Pcritical)) * (1 + m*(1- (Temp/Tc)**(0.5)))**2\n",
    "b = 0.08664* (R*Tc)/Pcritical\n",
    "#------------------------------------------------------------------------------------\n",
    "\n",
    "\n",
    "\n",
    "\n",
    "# Coefficients of EoS polynomial (look at the top of the script for Soave-Redlich-Kwong EoS)\n",
    "C3 = Pinput\n",
    "C2 = R*Temp\n",
    "C1 = (R*Temp*b - a + Pinput*(b**2))\n",
    "C0 = a*b\n",
    "#--------------------------------------------------------------------------------------------\n",
    "\n",
    "\n",
    "\n",
    "#Newton-Raphson approach to calculate V\n",
    "v0 = (R*Temp)/Pinput   # V ideal for initial approximation for Newton-Raphson\n",
    "\n",
    "tolerance  = 1         # Initialization\n",
    "\n",
    "while (tolerance > 0.000001):\n",
    "    v = NewtonRaphson(EoS, v0)\n",
    "    tolerance = v0 - v\n",
    "    print ('New iterated molar volume {} ---- tolerance {}'.format(v, tolerance))\n",
    "    v0 = v\n",
    "#---------------------------------------------------------------------------------------"
   ]
  }
 ],
 "metadata": {
  "kernelspec": {
   "display_name": "Python 3",
   "language": "python",
   "name": "python3"
  },
  "language_info": {
   "codemirror_mode": {
    "name": "ipython",
    "version": 3
   },
   "file_extension": ".py",
   "mimetype": "text/x-python",
   "name": "python",
   "nbconvert_exporter": "python",
   "pygments_lexer": "ipython3",
   "version": "3.7.1"
  }
 },
 "nbformat": 4,
 "nbformat_minor": 2
}
